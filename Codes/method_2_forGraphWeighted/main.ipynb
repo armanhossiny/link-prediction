{
 "cells": [
  {
   "cell_type": "code",
   "execution_count": 2,
   "metadata": {},
   "outputs": [],
   "source": [
    "import matplotlib.pyplot as plt\n",
    "import networkx as nx\n",
    "from math import log\n",
    "\n",
    "import random\n",
    "import numpy as np\n",
    "\n",
    "from method import func\n",
    "from method import addEdge\n",
    "from method import JC\n",
    "from method import CN\n",
    "from method import PA\n",
    "from method import AA\n",
    "\n",
    "\n",
    "\n",
    "\n"
   ]
  },
  {
   "cell_type": "code",
   "execution_count": 24,
   "metadata": {},
   "outputs": [
    {
     "name": "stdout",
     "output_type": "stream",
     "text": [
      "number nodes G:  1461 \n",
      " number edges G:  2742\n"
     ]
    }
   ],
   "source": [
    "G =nx.Graph()\n",
    "\n",
    "\n",
    "# G.add_edge('0', '1', weight=0.6)\n",
    "# G.add_edge('0', '2', weight=0.2)\n",
    "# G.add_edge('1','3', weight=0.1)\n",
    "# G.add_edge('2 ','4', weight=0.7)\n",
    "# G.add_edge('3', '5', weight=0.9)\n",
    "# G.add_edge('7', '8', weight=0.2)\n",
    "# G.add_edge('6', '7', weight=0.7)\n",
    "# G.add_edge('5', '2', weight=0.5)\n",
    "# G.add_edge('8', '4', weight=0.7)\n",
    "# G.add_edge('9', '3', weight=0.6)\n",
    "# G.add_edge('6', '3', weight=0.4)\n",
    "# G.add_edge('4', '3', weight=0.3)\n",
    "# G = nx.karate_club_graph()\n",
    "\n",
    "# # dataset lesmis\n",
    "# //////////////////////////////////////////////////////////////////////////////////////dataset  \n",
    "# edges = nx.read_gml('dataset/lesmis.gml')\n",
    "# G.add_edges_from(edges.edges(data=True))\n",
    "# name_dataset=\"lesmis\"\n",
    "\n",
    "# //////////////////////////////////////////////////////////////////////////////////////dataset King_James\n",
    "# G = nx.read_edgelist('dataset/King_James.txt', nodetype=int, data=(('weight',float),))\n",
    "# G.edges(data=True)\n",
    "# name_dataset=\"King_James\"\n",
    "\n",
    "# //////////////////////////////////////////////////////////////////////////////////////dataset NetScience\n",
    "G = nx.read_edgelist('dataset/NetScience.txt', nodetype=int, data=(('weight',float),))\n",
    "G.edges(data=True)\n",
    "name_dataset=\"NetScience\"\n",
    "\n",
    "# //////////////////////////////////////////////////////////////////////////////////////dataset Adolescent\n",
    "# G = nx.read_edgelist('dataset/Adolescent.txt', nodetype=int, data=(('weight',float),))\n",
    "# name_dataset=\"Adolescent\"\n",
    "# nx.draw(G, with_labels = True)\n",
    "\n",
    "print(\"number nodes G: \",len(G.nodes()),\"\\n number edges G: \", len(G.edges()))\n",
    "# len(G.edges(data=True))"
   ]
  },
  {
   "cell_type": "code",
   "execution_count": 25,
   "metadata": {},
   "outputs": [
    {
     "name": "stdout",
     "output_type": "stream",
     "text": [
      "2742\n"
     ]
    }
   ],
   "source": [
    "arrayGraph=nx.to_numpy_matrix(G,sorted(G.nodes()))\n",
    "len(arrayGraph)\n",
    "G = nx.from_numpy_matrix(arrayGraph)\n",
    "print(len(G.edges(data=True)))"
   ]
  },
  {
   "cell_type": "code",
   "execution_count": 26,
   "metadata": {},
   "outputs": [
    {
     "name": "stdout",
     "output_type": "stream",
     "text": [
      "sum Min and Max weight: 4.8026316\n"
     ]
    }
   ],
   "source": [
    "G_weight_main=list(G.edges(data=True))\n",
    "G_weight_reverse= addEdge.reverse_weight_edges(G_weight_main)"
   ]
  },
  {
   "cell_type": "markdown",
   "metadata": {},
   "source": [
    "**JC**"
   ]
  },
  {
   "cell_type": "code",
   "execution_count": 36,
   "metadata": {},
   "outputs": [],
   "source": [
    "algoritm_name=\"GMC\"\n",
    "# algoritm_name=\"ALC\""
   ]
  },
  {
   "cell_type": "code",
   "execution_count": 37,
   "metadata": {},
   "outputs": [
    {
     "name": "stdout",
     "output_type": "stream",
     "text": [
      "2742\n",
      "numbers remove edges:  274\n",
      "2468\n"
     ]
    }
   ],
   "source": [
    "ebunch = nx.edges(G)  \n",
    "JC_list= list(JC.Jaccard_Coefficient_index(G, G_weight_reverse, ebunch))\n",
    "JC_list_sorted=sorted(JC_list, reverse=True, key=lambda x: x[2])\n",
    "JC_list_mod, JC_list_per, JC_list_cov = func.remove_anomal_edge(G, JC_list_sorted, algoritm_name)"
   ]
  },
  {
   "cell_type": "markdown",
   "metadata": {},
   "source": [
    "**CN**"
   ]
  },
  {
   "cell_type": "code",
   "execution_count": 38,
   "metadata": {},
   "outputs": [
    {
     "name": "stdout",
     "output_type": "stream",
     "text": [
      "2742\n",
      "numbers remove edges:  274\n",
      "2468\n"
     ]
    }
   ],
   "source": [
    "CN_list = CN.NLP_CN(G, G_weight_reverse)\n",
    "CN_list_sorted=sorted(CN_list, reverse=True, key=lambda x: x[2])\n",
    "CN_list_mod, CN_list_per, CN_list_cov = func.remove_anomal_edge(G, CN_list_sorted, algoritm_name)"
   ]
  },
  {
   "cell_type": "markdown",
   "metadata": {},
   "source": [
    "**PA**"
   ]
  },
  {
   "cell_type": "code",
   "execution_count": 39,
   "metadata": {},
   "outputs": [
    {
     "name": "stdout",
     "output_type": "stream",
     "text": [
      "2742\n",
      "numbers remove edges:  274\n",
      "2468\n"
     ]
    }
   ],
   "source": [
    "PA_list= list(PA.preferential_attachment_index(G, G_weight_reverse,ebunch))\n",
    "PA_list_sorted=sorted(PA_list, reverse=True, key=lambda x: x[2])\n",
    "PA_list_mod, PA_list_per, PA_list_cov = func.remove_anomal_edge(G, PA_list_sorted, algoritm_name)"
   ]
  },
  {
   "cell_type": "markdown",
   "metadata": {},
   "source": [
    "**AA**"
   ]
  },
  {
   "cell_type": "code",
   "execution_count": 40,
   "metadata": {},
   "outputs": [
    {
     "name": "stdout",
     "output_type": "stream",
     "text": [
      "2742\n",
      "numbers remove edges:  274\n",
      "2468\n"
     ]
    }
   ],
   "source": [
    "\n",
    "AA_lsit=list(AA.adamic_adar_index(G, G_weight_reverse, ebunch))\n",
    "AA_lsit_sorted=sorted(AA_lsit, reverse=True, key=lambda x: x[2])\n",
    "AA_list_mod, AA_list_per, AA_list_cov = func.remove_anomal_edge(G, AA_lsit_sorted, algoritm_name)"
   ]
  },
  {
   "cell_type": "code",
   "execution_count": 45,
   "metadata": {},
   "outputs": [
    {
     "name": "stdout",
     "output_type": "stream",
     "text": [
      "GMC\n"
     ]
    }
   ],
   "source": [
    "print(algoritm_name)"
   ]
  },
  {
   "cell_type": "code",
   "execution_count": 46,
   "metadata": {},
   "outputs": [
    {
     "data": {
      "image/png": "[encoded data removed]",
      "text/plain": [
       "<Figure size 432x288 with 1 Axes>"
      ]
     },
     "metadata": {
      "needs_background": "light"
     },
     "output_type": "display_data"
    }
   ],
   "source": [
    "title_name = \"Modularity\"\n",
    "func.plot_result(CN_list_mod,PA_list_mod, AA_list_mod,JC_list_mod, title_name, \"mod_\"+name_dataset)"
   ]
  },
  {
   "cell_type": "code",
   "execution_count": 47,
   "metadata": {},
   "outputs": [
    {
     "data": {
      "image/png": "[encoded data removed]",
      "text/plain": [
       "<Figure size 432x288 with 1 Axes>"
      ]
     },
     "metadata": {
      "needs_background": "light"
     },
     "output_type": "display_data"
    }
   ],
   "source": [
    "title_name = \"Performance\"\n",
    "func.plot_result(CN_list_per,PA_list_per, AA_list_per,JC_list_per, title_name, \"per_\"+name_dataset)"
   ]
  },
  {
   "cell_type": "code",
   "execution_count": 48,
   "metadata": {},
   "outputs": [
    {
     "data": {
      "image/png": "[encoded data removed]",
      "text/plain": [
       "<Figure size 432x288 with 1 Axes>"
      ]
     },
     "metadata": {
      "needs_background": "light"
     },
     "output_type": "display_data"
    }
   ],
   "source": [
    "title_name = \"Coverage\"\n",
    "func.plot_result(CN_list_cov,PA_list_cov, AA_list_cov,JC_list_cov, title_name, \"cov_\"+name_dataset)"
   ]
  },
  {
   "cell_type": "code",
   "execution_count": 13,
   "metadata": {},
   "outputs": [],
   "source": [
    "# func.plot_result(JC_list_cov,JC_list_cov, JC_list_cov,JC_list_cov, algoritm_name)"
   ]
  },
  {
   "cell_type": "code",
   "execution_count": 14,
   "metadata": {},
   "outputs": [
    {
     "data": {
      "text/plain": [
       "[0.7559055118110236,\n",
       " 0.7430830039525692,\n",
       " 0.746031746031746,\n",
       " 0.8047808764940239,\n",
       " 0.756,\n",
       " 0.7590361445783133,\n",
       " 0.717741935483871,\n",
       " 0.7894736842105263,\n",
       " 0.7886178861788617,\n",
       " 0.763265306122449,\n",
       " 0.7377049180327869,\n",
       " 0.7942386831275721,\n",
       " 0.7933884297520661,\n",
       " 0.7219917012448133,\n",
       " 0.7322175732217573,\n",
       " 0.7257383966244726,\n",
       " 0.8893617021276595,\n",
       " 0.776824034334764,\n",
       " 0.7532467532467533,\n",
       " 0.8165938864628821]"
      ]
     },
     "execution_count": 14,
     "metadata": {},
     "output_type": "execute_result"
    }
   ],
   "source": [
    "CN_list_cov"
   ]
  },
  {
   "cell_type": "code",
   "execution_count": 15,
   "metadata": {},
   "outputs": [
    {
     "data": {
      "text/plain": [
       "[0.7283464566929134,\n",
       " 0.7312252964426877,\n",
       " 0.8095238095238095,\n",
       " 0.7808764940239044,\n",
       " 0.78,\n",
       " 0.7871485943775101,\n",
       " 0.7701612903225806,\n",
       " 0.7732793522267206,\n",
       " 0.7804878048780488,\n",
       " 0.7714285714285715,\n",
       " 0.7622950819672131,\n",
       " 0.9300411522633745,\n",
       " 0.7603305785123967,\n",
       " 0.7883817427385892,\n",
       " 0.7866108786610879,\n",
       " 0.8987341772151899,\n",
       " 0.7957446808510639,\n",
       " 0.8068669527896996,\n",
       " 0.7922077922077922,\n",
       " 0.7860262008733624]"
      ]
     },
     "execution_count": 15,
     "metadata": {},
     "output_type": "execute_result"
    }
   ],
   "source": [
    "PA_list_cov"
   ]
  },
  {
   "cell_type": "code",
   "execution_count": 16,
   "metadata": {},
   "outputs": [
    {
     "data": {
      "image/png": "[encoded data removed]",
      "text/plain": [
       "<Figure size 432x288 with 3 Axes>"
      ]
     },
     "metadata": {
      "needs_background": "light"
     },
     "output_type": "display_data"
    }
   ],
   "source": [
    "import matplotlib.pyplot as plt\n",
    "\n",
    "from matplotlib.ticker import NullFormatter  # useful for `logit` scale\n",
    "\n",
    "# Fixing random state for reproducibility\n",
    "np.random.seed(19680801)\n",
    "\n",
    "# make up some data in the interval ]0, 1[\n",
    "y = np.random.normal(loc=0.5, scale=0.4, size=1000)\n",
    "y = y[(y > 0) & (y < 1)]\n",
    "y.sort()\n",
    "x = np.arange(len(y))\n",
    "\n",
    "# plot with various axes scales\n",
    "plt.figure()\n",
    "\n",
    "# linear\n",
    "plt.subplot(221)\n",
    "plt.plot(x, y)\n",
    "plt.yscale('linear')\n",
    "plt.title('linear')\n",
    "plt.grid(True)\n",
    "\n",
    "\n",
    "# log\n",
    "plt.subplot(222)\n",
    "plt.plot(x, y)\n",
    "plt.yscale('log')\n",
    "plt.title('log')\n",
    "plt.grid(True)\n",
    "\n",
    "\n",
    "# symmetric log\n",
    "plt.subplot(223)\n",
    "plt.plot(x, y - y.mean())\n",
    "plt.yscale('symlog', linthreshy=0.01)\n",
    "plt.title('symlog')\n",
    "plt.grid(True)\n",
    "\n",
    "# Format the minor tick labels of the y-axis into empty strings with\n",
    "# `NullFormatter`, to avoid cumbering the axis with too many labels.\n",
    "plt.gca().yaxis.set_minor_formatter(NullFormatter())\n",
    "# Adjust the subplot layout, because the logit one may take more space\n",
    "# than usual, due to y-tick labels like \"1 - 10^{-3}\"\n",
    "plt.subplots_adjust(top=0.92, bottom=0.08, left=0.10, right=0.95, hspace=0.25,\n",
    "                    wspace=0.35)\n",
    "\n",
    "plt.show()"
   ]
  },
  {
   "cell_type": "code",
   "execution_count": 17,
   "metadata": {},
   "outputs": [
    {
     "data": {
      "text/plain": [
       "array([0.00504436, 0.00728387, 0.00768518, 0.00911896, 0.00920089,\n",
       "       0.01192289, 0.01681631, 0.01864552, 0.02152076, 0.02230702,\n",
       "       0.0265074 , 0.03097469, 0.03389333, 0.03525355, 0.036207  ,\n",
       "       0.03641969, 0.04039858, 0.04078897, 0.04212741, 0.044082  ,\n",
       "       0.04527424, 0.04569632, 0.04586512, 0.04731993, 0.04855783,\n",
       "       0.04899915, 0.05033653, 0.05068839, 0.05109329, 0.05145323,\n",
       "       0.05267393, 0.05276156, 0.05415813, 0.05440991, 0.05575641,\n",
       "       0.05710696, 0.06132671, 0.06381153, 0.06601479, 0.08237102,\n",
       "       0.08401894, 0.08469221, 0.08625915, 0.08737286, 0.08879503,\n",
       "       0.08981014, 0.0933174 , 0.09409594, 0.09410292, 0.09617828,\n",
       "       0.09911762, 0.1009563 , 0.10126327, 0.10306533, 0.105953  ,\n",
       "       0.10723017, 0.10728408, 0.11338675, 0.11405457, 0.11854221,\n",
       "       0.11866685, 0.11940473, 0.12032256, 0.12238095, 0.12506999,\n",
       "       0.12708438, 0.12917316, 0.13388269, 0.13426839, 0.13439671,\n",
       "       0.13534025, 0.13776302, 0.13969385, 0.14042888, 0.14120622,\n",
       "       0.1420231 , 0.14565372, 0.14576258, 0.14914718, 0.15019382,\n",
       "       0.1510001 , 0.15161357, 0.15323945, 0.15388269, 0.15773924,\n",
       "       0.15956666, 0.1599013 , 0.16444666, 0.16733223, 0.16892343,\n",
       "       0.16952293, 0.16967065, 0.17098308, 0.17136945, 0.17254742,\n",
       "       0.17265844, 0.17462643, 0.17605114, 0.17626208, 0.17814647,\n",
       "       0.17821446, 0.17830486, 0.18295621, 0.18359122, 0.18483465,\n",
       "       0.18753879, 0.18810308, 0.18947928, 0.19064594, 0.19188203,\n",
       "       0.19976174, 0.19988289, 0.20010934, 0.20332163, 0.20519006,\n",
       "       0.20609384, 0.20690656, 0.20753151, 0.20757564, 0.20944776,\n",
       "       0.21257404, 0.21513741, 0.21630071, 0.21654735, 0.21896366,\n",
       "       0.21942158, 0.22059205, 0.22059902, 0.22204038, 0.22240073,\n",
       "       0.22266686, 0.22561649, 0.22763526, 0.22793433, 0.23308982,\n",
       "       0.23331062, 0.23372623, 0.23584738, 0.23728359, 0.23844859,\n",
       "       0.2402207 , 0.24028475, 0.24031825, 0.24256591, 0.24300494,\n",
       "       0.24444144, 0.24649862, 0.25046052, 0.25052214, 0.25110319,\n",
       "       0.25116348, 0.25168023, 0.2520895 , 0.2523848 , 0.25245175,\n",
       "       0.25283286, 0.2533186 , 0.2544916 , 0.25470699, 0.25528597,\n",
       "       0.25549104, 0.25682645, 0.25712643, 0.25871221, 0.25906347,\n",
       "       0.25948734, 0.25971527, 0.26113297, 0.26136381, 0.26465081,\n",
       "       0.26500296, 0.26705193, 0.26737594, 0.26753176, 0.26764387,\n",
       "       0.27216216, 0.27328362, 0.27426883, 0.27707953, 0.27709075,\n",
       "       0.27718205, 0.27766956, 0.28131248, 0.28147021, 0.28158597,\n",
       "       0.28368392, 0.28421875, 0.28497279, 0.28502486, 0.28545261,\n",
       "       0.28696935, 0.28870091, 0.28891125, 0.28926749, 0.28972074,\n",
       "       0.29227303, 0.29243018, 0.29302317, 0.29305477, 0.29406021,\n",
       "       0.29482119, 0.2950984 , 0.2956422 , 0.29572962, 0.29587178,\n",
       "       0.29606279, 0.29728542, 0.29970508, 0.30087617, 0.3010722 ,\n",
       "       0.30280881, 0.30318775, 0.30673576, 0.30722225, 0.30743022,\n",
       "       0.30808745, 0.30863217, 0.31182224, 0.3122845 , 0.31350948,\n",
       "       0.31358378, 0.3148422 , 0.31648342, 0.31872754, 0.31959755,\n",
       "       0.32173537, 0.32235852, 0.32347799, 0.32396099, 0.32440298,\n",
       "       0.32608143, 0.32757973, 0.32791274, 0.33094386, 0.33260236,\n",
       "       0.33293426, 0.33416918, 0.33946427, 0.34014838, 0.3408109 ,\n",
       "       0.34117638, 0.34248664, 0.34359886, 0.34606276, 0.34657835,\n",
       "       0.34795662, 0.34816523, 0.34841308, 0.34861182, 0.34870926,\n",
       "       0.34954002, 0.35002642, 0.35055842, 0.35201235, 0.35591172,\n",
       "       0.35700649, 0.35734607, 0.35840478, 0.35906317, 0.36234818,\n",
       "       0.36292237, 0.364625  , 0.36483986, 0.36518835, 0.36742059,\n",
       "       0.36970626, 0.37037862, 0.37301949, 0.3731932 , 0.37667231,\n",
       "       0.37732121, 0.37758144, 0.37896121, 0.37983758, 0.38015154,\n",
       "       0.38084609, 0.38270902, 0.3833102 , 0.38482626, 0.3861093 ,\n",
       "       0.3871056 , 0.3871154 , 0.38816587, 0.3889617 , 0.39026668,\n",
       "       0.3906029 , 0.39155794, 0.39335666, 0.39474819, 0.39482949,\n",
       "       0.39673498, 0.39752871, 0.39840638, 0.39863802, 0.39865021,\n",
       "       0.39909451, 0.40285291, 0.4071996 , 0.40837954, 0.40901729,\n",
       "       0.40926407, 0.40982059, 0.41237569, 0.41320123, 0.41538721,\n",
       "       0.41595202, 0.41774818, 0.41949795, 0.41962635, 0.42379107,\n",
       "       0.42400071, 0.42418518, 0.4243956 , 0.42608777, 0.42608969,\n",
       "       0.42707312, 0.42867664, 0.42874591, 0.4294539 , 0.43001292,\n",
       "       0.43065945, 0.43191283, 0.43295054, 0.43319962, 0.43377259,\n",
       "       0.43538763, 0.43781214, 0.43785842, 0.43835698, 0.43930431,\n",
       "       0.44155519, 0.44162786, 0.44294472, 0.44330228, 0.44395377,\n",
       "       0.4449887 , 0.44654258, 0.44795259, 0.44882717, 0.44896507,\n",
       "       0.44970224, 0.44984238, 0.45041043, 0.45167574, 0.45285749,\n",
       "       0.45310939, 0.45356285, 0.45502942, 0.45535523, 0.45688549,\n",
       "       0.45690344, 0.45898169, 0.45924698, 0.45959332, 0.46109612,\n",
       "       0.46129287, 0.46242212, 0.46264675, 0.4649641 , 0.46505415,\n",
       "       0.46596863, 0.4660608 , 0.46678741, 0.46694499, 0.46733281,\n",
       "       0.46745123, 0.46977276, 0.47017214, 0.47043728, 0.4712012 ,\n",
       "       0.4719559 , 0.47635303, 0.47639903, 0.47841937, 0.48133524,\n",
       "       0.48184131, 0.4822558 , 0.48252089, 0.48290742, 0.48340264,\n",
       "       0.48456257, 0.48549525, 0.4868528 , 0.48691632, 0.48887653,\n",
       "       0.49021639, 0.49038276, 0.49143951, 0.49274749, 0.49285147,\n",
       "       0.49333675, 0.49383508, 0.49764487, 0.49870221, 0.50060998,\n",
       "       0.50304794, 0.50314071, 0.50383932, 0.50500304, 0.50542423,\n",
       "       0.50545182, 0.50559345, 0.50624766, 0.50730325, 0.50860938,\n",
       "       0.50864424, 0.50932273, 0.51022946, 0.51160429, 0.51171845,\n",
       "       0.51287029, 0.51438695, 0.51718701, 0.5197454 , 0.51991435,\n",
       "       0.52008928, 0.52081136, 0.52120783, 0.5214753 , 0.52418157,\n",
       "       0.52577799, 0.52728452, 0.52750548, 0.52946899, 0.53072516,\n",
       "       0.5314695 , 0.53343837, 0.53361848, 0.5344963 , 0.53720481,\n",
       "       0.53722377, 0.53795772, 0.53923505, 0.54012774, 0.54165118,\n",
       "       0.54185639, 0.54433145, 0.54479054, 0.54501721, 0.54545297,\n",
       "       0.54875046, 0.54876301, 0.55076784, 0.55122283, 0.55123017,\n",
       "       0.55146835, 0.55305408, 0.55324473, 0.55442984, 0.55585419,\n",
       "       0.55593392, 0.55963559, 0.56019852, 0.56083402, 0.56100183,\n",
       "       0.56201218, 0.56208831, 0.56320691, 0.56343738, 0.56477303,\n",
       "       0.56519963, 0.56722959, 0.56793209, 0.56814789, 0.56873647,\n",
       "       0.56971435, 0.5709084 , 0.57279717, 0.57454052, 0.5749769 ,\n",
       "       0.57501356, 0.57562642, 0.57682474, 0.57717856, 0.57874135,\n",
       "       0.5790281 , 0.58064268, 0.58079603, 0.58121062, 0.5828078 ,\n",
       "       0.58679965, 0.58726858, 0.58756923, 0.58984191, 0.59179752,\n",
       "       0.59307953, 0.59465805, 0.59493998, 0.59498595, 0.59555574,\n",
       "       0.60144249, 0.60203625, 0.60218072, 0.60282847, 0.60555261,\n",
       "       0.60581806, 0.60763164, 0.60900359, 0.60925233, 0.61121199,\n",
       "       0.61140587, 0.61339873, 0.61522098, 0.61858263, 0.61874307,\n",
       "       0.61879876, 0.62182592, 0.62239575, 0.62250519, 0.62291255,\n",
       "       0.62508943, 0.62520834, 0.62787   , 0.62993169, 0.63289264,\n",
       "       0.63658965, 0.63977178, 0.63990202, 0.63995134, 0.64086843,\n",
       "       0.64094394, 0.64172055, 0.6427355 , 0.64354837, 0.64427064,\n",
       "       0.6453712 , 0.64931028, 0.65070151, 0.65229221, 0.65494735,\n",
       "       0.65524002, 0.65752673, 0.65796832, 0.65802781, 0.65834707,\n",
       "       0.66163053, 0.6627905 , 0.66373104, 0.66566004, 0.66649923,\n",
       "       0.66928068, 0.66929207, 0.67003869, 0.67048354, 0.67290563,\n",
       "       0.67420715, 0.67471265, 0.67558063, 0.67595382, 0.67639013,\n",
       "       0.67684224, 0.67836474, 0.68085873, 0.6817998 , 0.68263031,\n",
       "       0.68483353, 0.68495769, 0.68571107, 0.68692463, 0.6876689 ,\n",
       "       0.68818775, 0.68959105, 0.69143859, 0.69207523, 0.6941583 ,\n",
       "       0.69521983, 0.69572062, 0.69638018, 0.69709542, 0.69817134,\n",
       "       0.70010222, 0.70106968, 0.70122921, 0.70207988, 0.70441607,\n",
       "       0.70642436, 0.70677633, 0.70906793, 0.70969952, 0.70980572,\n",
       "       0.71111301, 0.71459505, 0.71540518, 0.71556579, 0.7170178 ,\n",
       "       0.71868702, 0.72010202, 0.72045384, 0.72062937, 0.72064513,\n",
       "       0.72077518, 0.72118143, 0.72169633, 0.72206698, 0.72209728,\n",
       "       0.7227929 , 0.72344538, 0.72378578, 0.72528982, 0.72550898,\n",
       "       0.72646477, 0.72665275, 0.7267032 , 0.72953841, 0.73226941,\n",
       "       0.73357607, 0.73471883, 0.73518117, 0.73556548, 0.73650672,\n",
       "       0.73830667, 0.73885647, 0.74122114, 0.74259774, 0.74284815,\n",
       "       0.74418294, 0.74600114, 0.7460565 , 0.74827532, 0.75048897,\n",
       "       0.75325523, 0.75433428, 0.75448081, 0.75727762, 0.75742549,\n",
       "       0.75805315, 0.76345388, 0.76449265, 0.76586828, 0.76610988,\n",
       "       0.76660361, 0.76861104, 0.76945199, 0.76949602, 0.76969586,\n",
       "       0.77027008, 0.7717519 , 0.77531946, 0.77613877, 0.77656195,\n",
       "       0.77835056, 0.78255892, 0.78493722, 0.78590656, 0.78610667,\n",
       "       0.78626552, 0.78802091, 0.78856033, 0.79180328, 0.79275774,\n",
       "       0.79299547, 0.79405729, 0.79514435, 0.79576081, 0.79665658,\n",
       "       0.79701644, 0.79722547, 0.79828336, 0.79898513, 0.80074364,\n",
       "       0.80137216, 0.80151725, 0.80449726, 0.80464624, 0.80516858,\n",
       "       0.80523312, 0.80558398, 0.80590879, 0.80787111, 0.81071124,\n",
       "       0.81117125, 0.81135439, 0.81260273, 0.81318822, 0.81320399,\n",
       "       0.81429325, 0.81806801, 0.81818099, 0.81974404, 0.81997236,\n",
       "       0.82181684, 0.82257666, 0.82850962, 0.82951543, 0.83062377,\n",
       "       0.83177902, 0.83225456, 0.83291114, 0.8330695 , 0.83410996,\n",
       "       0.83435649, 0.83583504, 0.83733693, 0.83890196, 0.83892596,\n",
       "       0.84257155, 0.84273489, 0.84283873, 0.84333218, 0.84348867,\n",
       "       0.84643967, 0.84875745, 0.84885969, 0.8501532 , 0.85182173,\n",
       "       0.85217168, 0.85634339, 0.85826126, 0.86060948, 0.86172497,\n",
       "       0.86195322, 0.86218243, 0.86539693, 0.86642737, 0.86805323,\n",
       "       0.86806919, 0.86817482, 0.86871098, 0.87452247, 0.87890285,\n",
       "       0.88212309, 0.88356577, 0.88410087, 0.88463022, 0.88515873,\n",
       "       0.88752413, 0.88878903, 0.89250472, 0.89420875, 0.89445825,\n",
       "       0.89628946, 0.89780286, 0.89783983, 0.89986158, 0.90061288,\n",
       "       0.90645653, 0.90657111, 0.91081128, 0.91165922, 0.91195073,\n",
       "       0.91241791, 0.91404242, 0.91506214, 0.91581305, 0.91737058,\n",
       "       0.9178354 , 0.91856989, 0.91876512, 0.91890707, 0.91972172,\n",
       "       0.92175905, 0.92354432, 0.92934311, 0.93115404, 0.93457472,\n",
       "       0.93546148, 0.93699094, 0.93713857, 0.9372343 , 0.9375467 ,\n",
       "       0.94165277, 0.9419683 , 0.94354476, 0.94516251, 0.94569158,\n",
       "       0.9466476 , 0.94669522, 0.95011003, 0.95063394, 0.95099346,\n",
       "       0.95218389, 0.95322901, 0.95555407, 0.95597648, 0.95982544,\n",
       "       0.96421316, 0.96569425, 0.96578904, 0.96836377, 0.9693727 ,\n",
       "       0.96983797, 0.97074996, 0.97297955, 0.97647764, 0.97946636,\n",
       "       0.98125659, 0.98146491, 0.98303106, 0.98467233, 0.98528296,\n",
       "       0.9903001 , 0.99030359, 0.99206244, 0.9929163 , 0.99556874,\n",
       "       0.99855436, 0.99861883, 0.99868459, 0.99953492])"
      ]
     },
     "execution_count": 17,
     "metadata": {},
     "output_type": "execute_result"
    }
   ],
   "source": [
    "y"
   ]
  },
  {
   "cell_type": "code",
   "execution_count": 18,
   "metadata": {},
   "outputs": [
    {
     "data": {
      "text/plain": [
       "'ab'"
      ]
     },
     "execution_count": 18,
     "metadata": {},
     "output_type": "execute_result"
    }
   ],
   "source": [
    "\"a\"+\"b\""
   ]
  },
  {
   "cell_type": "code",
   "execution_count": null,
   "metadata": {},
   "outputs": [],
   "source": []
  }
 ],
 "metadata": {
  "kernelspec": {
   "display_name": "Python 3",
   "language": "python",
   "name": "python3"
  },
  "language_info": {
   "codemirror_mode": {
    "name": "ipython",
    "version": 3
   },
   "file_extension": ".py",
   "mimetype": "text/x-python",
   "name": "python",
   "nbconvert_exporter": "python",
   "pygments_lexer": "ipython3",
   "version": "3.7.7"
  }
 },
 "nbformat": 4,
 "nbformat_minor": 4
}
