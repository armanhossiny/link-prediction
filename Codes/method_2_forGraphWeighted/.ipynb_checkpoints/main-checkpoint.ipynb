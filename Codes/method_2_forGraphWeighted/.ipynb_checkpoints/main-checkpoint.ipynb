{
 "cells": [
  {
   "cell_type": "code",
   "execution_count": null,
   "metadata": {},
   "outputs": [],
   "source": [
    "import matplotlib.pyplot as plt\n",
    "import networkx as nx\n",
    "from math import log\n",
    "\n",
    "import random\n",
    "import numpy as np\n",
    "\n",
    "from method import addEdge\n",
    "from method import JC\n",
    "from method import CN\n",
    "from method import PA\n",
    "from method import AA\n",
    "\n",
    "from function import f_graph\n",
    "\n",
    "\n"
   ]
  },
  {
   "cell_type": "code",
   "execution_count": null,
   "metadata": {},
   "outputs": [],
   "source": [
    "G =nx.Graph()\n",
    "\n",
    "\n",
    "# G.add_edge('0', '1', weight=0.6)\n",
    "# G.add_edge('0', '2', weight=0.2)\n",
    "# G.add_edge('1','3', weight=0.1)\n",
    "# G.add_edge('2 ','4', weight=0.7)\n",
    "# G.add_edge('3', '5', weight=0.9)\n",
    "# G.add_edge('7', '8', weight=0.2)\n",
    "# G.add_edge('6', '7', weight=0.7)\n",
    "# G.add_edge('5', '2', weight=0.5)\n",
    "# G.add_edge('8', '4', weight=0.7)\n",
    "# G.add_edge('9', '3', weight=0.6)\n",
    "# G.add_edge('6', '3', weight=0.4)\n",
    "# G.add_edge('4', '3', weight=0.3)\n",
    "# G = nx.karate_club_graph()\n",
    "\n",
    "# # dataset lesmis\n",
    "# //////////////////////////////////////////////////////////////////////////////////////dataset  \n",
    "# edges = nx.read_gml('dataset/lesmis.gml')\n",
    "# G.add_edges_from(edges.edges(data=True))\n",
    "\n",
    "# //////////////////////////////////////////////////////////////////////////////////////dataset King_James\n",
    "# G = nx.read_edgelist('dataset/King_James.txt', nodetype=int, data=(('weight',float),))\n",
    "# G.edges(data=True)\n",
    "\n",
    "# //////////////////////////////////////////////////////////////////////////////////////dataset NetScience\n",
    "G = nx.read_edgelist('dataset/NetScience.txt', nodetype=int, data=(('weight',float),))\n",
    "# G.edges(data=True)\n",
    "\n",
    "# //////////////////////////////////////////////////////////////////////////////////////dataset Adolescent\n",
    "# G = nx.read_edgelist('dataset/Adolescent.txt', nodetype=int, data=(('weight',float),))\n",
    "\n",
    "# nx.draw(G, with_labels = True)\n",
    "print(\"number nodes G: \",len(G.nodes()),\"\\n number edges G: \", len(G.edges()), G.edges(data=True))\n",
    "# list(G.edges(data=True))"
   ]
  },
  {
   "cell_type": "code",
   "execution_count": null,
   "metadata": {},
   "outputs": [],
   "source": [
    "G.remove_edges_from(nx.selfloop_edges(G))\n",
    "\n",
    "arrayGraph=nx.to_numpy_matrix(G,sorted(G.nodes()))\n",
    "len(arrayGraph)\n",
    "G = nx.from_numpy_matrix(arrayGraph)\n",
    "list(G.edges(data=True))"
   ]
  },
  {
   "cell_type": "code",
   "execution_count": null,
   "metadata": {},
   "outputs": [],
   "source": [
    "# G = nx.Graph()\n",
    "\n",
    "# G.add_edge('a', 'b', weight=0.6)\n",
    "# G.add_edge('a', 'c', weight=0.1)\n",
    "# G.add_edge('c', 'd', weight=0.1)\n",
    "# G.add_edge('c', 'e', weight=0.7)\n",
    "# G.add_edge('c', 'f', weight=0.9)\n",
    "\n",
    "\n",
    "\n"
   ]
  },
  {
   "cell_type": "code",
   "execution_count": null,
   "metadata": {},
   "outputs": [],
   "source": [
    "# arr=[]\n",
    "# for u, v, data in list(G.edges(data=True)):\n",
    "#     arr.append(data['weight'])\n",
    "# sums = np.sum(arr)\n",
    "# minElement = np.amin(arr)\n",
    "# maxElement = np.amax(arr)\n",
    "# print(minElement)\n",
    "# print( maxElement)\n",
    "# print(sums/len(G.edges()))\n",
    "# print(len(G.edges()), len(arr))"
   ]
  },
  {
   "cell_type": "code",
   "execution_count": null,
   "metadata": {},
   "outputs": [],
   "source": [
    "def main_max_wieghted(G_weight):\n",
    "    \n",
    "    minElement=False\n",
    "    minElement2=None\n",
    "    min2=0\n",
    "    max=0\n",
    "    all_edges_weight=[]\n",
    "    for u, v, data in G_weight:\n",
    "        all_edges_weight.append(data['weight'])\n",
    "        \n",
    "    sorted_all_wight = sorted(all_edges_weight)\n",
    "    print(sorted_all_wight)\n",
    "    for i in sorted_all_wight:\n",
    "        if minElement==False:\n",
    "            minElement=i\n",
    "        elif i>minElement:\n",
    "            minElement2=i\n",
    "            break\n",
    "    minElement = np.amin(sorted_all_wight)\n",
    "    maxElement = np.amax(sorted_all_wight)\n",
    "    print(\" minElement:\",minElement,\" minElement2:\", minElement2,\" maxElement:\", maxElement)\n",
    "\n",
    "    return minElement, maxElement, minElement2\n",
    "\n",
    "main_max_wieghted((G.edges(data=True)))"
   ]
  },
  {
   "cell_type": "code",
   "execution_count": null,
   "metadata": {},
   "outputs": [],
   "source": [
    "list(G.edges(data=True))"
   ]
  },
  {
   "cell_type": "code",
   "execution_count": null,
   "metadata": {},
   "outputs": [],
   "source": [
    "# find edge min and max\n",
    "G_weight_main=list(G.edges(data=True))\n",
    "minElement, maxElement, minElement2 = addEdge.main_max_wieghted(G_weight_main)\n",
    "# print(\"minW: \", minElement, \"maxW: \",maxElement)\n",
    "\n",
    "# # get edge less avrage degreee\n",
    "# nonedges = list(nx.non_edges(G))\n",
    "# list_edges_with_lessDegreeAvg = addEdge.find_edge_with_lessDegree_avg(nonedges,G)\n",
    "# print(\"list_edges_with_lessDegreeAvg: \",len(list_edges_with_lessDegreeAvg) )\n",
    "\n"
   ]
  },
  {
   "cell_type": "code",
   "execution_count": null,
   "metadata": {},
   "outputs": [],
   "source": [
    "# add random edge\n",
    "G3, matrix = f_graph.draw_graph(G)\n",
    "list_node_anomaly = addEdge.od_community(matrix)\n",
    "numEdgeAdded = addEdge.percentage(10, len(G.edges()))\n",
    "G1, listEdgesAdded= addEdge.smart_edge_add(G,list_node_anomaly, numEdgeAdded, minElement)\n",
    "# G1, listEdgesAdded= addEdge.addEdgeRanom(G, numEdgeAdded, list_edges_with_lessDegreeAvg, minElement, minElement2)\n",
    "\n",
    "# درست کردن کلاس برای معیارهای ارزیابی(یال‌های که به صورت تصادفی اضفه شدنه‌اند به کلاس 1 تبدیل می‌شوند)(دیتای تست)\n",
    "trainAddedEdge = []\n",
    "for node in listEdgesAdded:\n",
    "    trainAddedEdge.append(1)\n",
    "print(\"G1:\", len(G1.edges()),\"G:\", len(G.edges()))"
   ]
  },
  {
   "cell_type": "code",
   "execution_count": null,
   "metadata": {},
   "outputs": [],
   "source": [
    "# revrese weighted for NLP\n",
    "G1_weight_main=list(G1.edges(data=True))\n",
    "G1_weight_reverse= addEdge.reverse_weight_edges(G1_weight_main)\n",
    "\n",
    "print(list(G1_weight_reverse))"
   ]
  },
  {
   "cell_type": "code",
   "execution_count": null,
   "metadata": {},
   "outputs": [],
   "source": [
    "a=list(list_node_anomaly)\n",
    "a[0]"
   ]
  },
  {
   "cell_type": "code",
   "execution_count": null,
   "metadata": {},
   "outputs": [],
   "source": [
    "not(G_weight_main"
   ]
  },
  {
   "cell_type": "code",
   "execution_count": null,
   "metadata": {},
   "outputs": [],
   "source": [
    "\n",
    "listEdgesAdded"
   ]
  },
  {
   "cell_type": "markdown",
   "metadata": {},
   "source": [
    "**JC**"
   ]
  },
  {
   "cell_type": "code",
   "execution_count": null,
   "metadata": {},
   "outputs": [],
   "source": [
    "ebunch = nx.edges(G1)  \n",
    "JC_list= list(JC.Jaccard_Coefficient_index(G1, G1_weight_reverse, ebunch))\n",
    "JC_list_sorted=sorted(JC_list, reverse=True, key=lambda x: x[2])\n",
    "addEdge.compare_result_with_target(JC_list_sorted, listEdgesAdded, numEdgeAdded)"
   ]
  },
  {
   "cell_type": "markdown",
   "metadata": {},
   "source": [
    "**CN**"
   ]
  },
  {
   "cell_type": "code",
   "execution_count": 32,
   "metadata": {},
   "outputs": [
    {
     "name": "stdout",
     "output_type": "stream",
     "text": [
      "0 found anomaly edge!\n"
     ]
    }
   ],
   "source": [
    "CN_list = CN.NLP_CN(G1, G1_weight_reverse)\n",
    "CN_list_sorted=sorted(JC_list, reverse=True, key=lambda x: x[2])\n",
    "addEdge.compare_result_with_target(CN_list_sorted, listEdgesAdded, numEdgeAdded)"
   ]
  },
  {
   "cell_type": "markdown",
   "metadata": {},
   "source": [
    "**PA**"
   ]
  },
  {
   "cell_type": "code",
   "execution_count": 33,
   "metadata": {},
   "outputs": [
    {
     "name": "stdout",
     "output_type": "stream",
     "text": [
      "0 found anomaly edge!\n"
     ]
    }
   ],
   "source": [
    "PA_list= list(PA.preferential_attachment_index(G1, G1_weight_reverse,ebunch))\n",
    "PA_list_sorted=sorted(PA_list, reverse=True, key=lambda x: x[2])\n",
    "addEdge.compare_result_with_target(PA_list_sorted, listEdgesAdded, numEdgeAdded)"
   ]
  },
  {
   "cell_type": "markdown",
   "metadata": {},
   "source": [
    "**AA**"
   ]
  },
  {
   "cell_type": "code",
   "execution_count": 34,
   "metadata": {},
   "outputs": [
    {
     "name": "stdout",
     "output_type": "stream",
     "text": [
      "0 found anomaly edge!\n"
     ]
    }
   ],
   "source": [
    "\n",
    "AA_lsit=list(AA.adamic_adar_index(G1, G1_weight_reverse, ebunch))\n",
    "AA_lsit_sorted=sorted(AA_lsit, reverse=True, key=lambda x: x[2])\n",
    "addEdge.compare_result_with_target(AA_lsit_sorted, listEdgesAdded, numEdgeAdded)"
   ]
  },
  {
   "cell_type": "code",
   "execution_count": 17,
   "metadata": {},
   "outputs": [
    {
     "data": {
      "text/plain": [
       "[(3, 4, 0.9291101637838336),\n",
       " (2, 3, 0.8477370060618007),\n",
       " (2, 4, 0.6608229011380875),\n",
       " (3, 5, 0.6035421773171586),\n",
       " (2, 5, 0.5302415686068858),\n",
       " (0, 1, 0.0),\n",
       " (0, 2, 0.0)]"
      ]
     },
     "execution_count": 17,
     "metadata": {},
     "output_type": "execute_result"
    }
   ],
   "source": [
    "JC_list_sorted"
   ]
  },
  {
   "cell_type": "code",
   "execution_count": 18,
   "metadata": {},
   "outputs": [
    {
     "data": {
      "text/plain": [
       "[(3, 4, 0.9291101637838336),\n",
       " (2, 3, 0.8477370060618007),\n",
       " (2, 4, 0.6608229011380875),\n",
       " (3, 5, 0.6035421773171586),\n",
       " (2, 5, 0.5302415686068858),\n",
       " (0, 1, 0.0),\n",
       " (0, 2, 0.0)]"
      ]
     },
     "execution_count": 18,
     "metadata": {},
     "output_type": "execute_result"
    }
   ],
   "source": [
    "CN_list_sorted"
   ]
  },
  {
   "cell_type": "code",
   "execution_count": 19,
   "metadata": {},
   "outputs": [
    {
     "data": {
      "text/plain": [
       "[(2, 3, 12), (0, 2, 8), (2, 4, 8), (2, 5, 8), (3, 5, 6), (3, 4, 6), (0, 1, 2)]"
      ]
     },
     "execution_count": 19,
     "metadata": {},
     "output_type": "execute_result"
    }
   ],
   "source": [
    "PA_list_sorted"
   ]
  },
  {
   "cell_type": "code",
   "execution_count": 20,
   "metadata": {},
   "outputs": [
    {
     "data": {
      "text/plain": [
       "[(2, 3, 6.643856189774726),\n",
       " (2, 4, 2.095903274289385),\n",
       " (2, 5, 2.095903274289385),\n",
       " (3, 5, 1.6609640474436815),\n",
       " (3, 4, 1.6609640474436815),\n",
       " (0, 1, 0),\n",
       " (0, 2, 0)]"
      ]
     },
     "execution_count": 20,
     "metadata": {},
     "output_type": "execute_result"
    }
   ],
   "source": [
    "AA_lsit_sorted"
   ]
  },
  {
   "cell_type": "code",
   "execution_count": null,
   "metadata": {},
   "outputs": [],
   "source": []
  }
 ],
 "metadata": {
  "kernelspec": {
   "display_name": "Python 3",
   "language": "python",
   "name": "python3"
  },
  "language_info": {
   "codemirror_mode": {
    "name": "ipython",
    "version": 3
   },
   "file_extension": ".py",
   "mimetype": "text/x-python",
   "name": "python",
   "nbconvert_exporter": "python",
   "pygments_lexer": "ipython3",
   "version": "3.7.7"
  }
 },
 "nbformat": 4,
 "nbformat_minor": 2
}
