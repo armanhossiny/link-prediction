{
 "cells": [
  {
   "cell_type": "code",
   "execution_count": 1,
   "metadata": {},
   "outputs": [],
   "source": [
    "# import operator\n",
    "import linkpred\n",
    "import random\n",
    "from matplotlib import pyplot as plt\n",
    "import pandas as pd\n",
    "import numpy as np\n",
    "import operator\n",
    "import networkx as nx\n",
    "from function import f_onion_decomposition\n",
    "from function import f_graph\n",
    "from function import f_results\n",
    "from networkx.algorithms import community\n",
    "from networkx.algorithms.community.quality import performance\n",
    "from networkx.algorithms.community.quality import modularity\n",
    "from networkx.algorithms.community.quality import coverage\n",
    "\n",
    "from networkx.generators.line import line_graph\n",
    "from networkx.generators.line import inverse_line_graph\n",
    "\n",
    "from networkx.algorithms.centrality import degree_centrality \n",
    "from networkx.algorithms.centrality import eigenvector_centrality\n",
    "from networkx.algorithms.centrality import closeness_centrality\n",
    "from networkx.algorithms.centrality import betweenness_centrality\n"
   ]
  },
  {
   "cell_type": "code",
   "execution_count": 3,
   "metadata": {},
   "outputs": [
    {
     "data": {
      "image/png": "[encoded data removed]",
      "text/plain": [
       "<Figure size 432x288 with 1 Axes>"
      ]
     },
     "metadata": {},
     "output_type": "display_data"
    }
   ],
   "source": [
    "G = nx.Graph()  # undirected graph object in igraph\n",
    "\n",
    "edges=[\n",
    "   \n",
    "    (0, 2),\n",
    "    (0, 3),\n",
    "     (1, 2),\n",
    "    (2, 3),\n",
    "    (4,8),\n",
    "    (3,4),\n",
    "#     (4, 5),\n",
    "#     (1 ,6),\n",
    "#     (6, 8),\n",
    "#     (1, 3),\n",
    "#     (3, 6),\n",
    "#     (8, 7),\n",
    "#     (7, 9),\n",
    "#     (7, 10),\n",
    "#     (9, 10),\n",
    "# #     (7, 14),\n",
    "# #     (14, 15),\n",
    "# #     (14, 16)\n",
    "]\n",
    "G.add_edges_from(edges)\n",
    "G, matrix = f_graph.draw_graph(G)\n",
    "nx.draw(G, with_labels = True)"
   ]
  },
  {
   "cell_type": "code",
   "execution_count": 4,
   "metadata": {},
   "outputs": [
    {
     "ename": "NameError",
     "evalue": "name 'line_graph' is not defined",
     "output_type": "error",
     "traceback": [
      "\u001b[1;31m---------------------------------------------------------------------------\u001b[0m",
      "\u001b[1;31mNameError\u001b[0m                                 Traceback (most recent call last)",
      "\u001b[1;32m<ipython-input-4-b56eaccba9a3>\u001b[0m in \u001b[0;36m<module>\u001b[1;34m\u001b[0m\n\u001b[1;32m----> 1\u001b[1;33m \u001b[0mLineGIn\u001b[0m \u001b[1;33m=\u001b[0m \u001b[1;33m(\u001b[0m\u001b[0mline_graph\u001b[0m\u001b[1;33m(\u001b[0m\u001b[0mGIn\u001b[0m\u001b[1;33m)\u001b[0m\u001b[1;33m)\u001b[0m\u001b[1;33m\u001b[0m\u001b[1;33m\u001b[0m\u001b[0m\n\u001b[0m\u001b[0;32m      2\u001b[0m \u001b[1;33m\u001b[0m\u001b[0m\n\u001b[0;32m      3\u001b[0m \u001b[0mnx\u001b[0m\u001b[1;33m.\u001b[0m\u001b[0mdraw\u001b[0m\u001b[1;33m(\u001b[0m\u001b[0mLineGIn\u001b[0m\u001b[1;33m,\u001b[0m \u001b[0mwith_labels\u001b[0m \u001b[1;33m=\u001b[0m \u001b[1;32mTrue\u001b[0m\u001b[1;33m)\u001b[0m\u001b[1;33m\u001b[0m\u001b[1;33m\u001b[0m\u001b[0m\n",
      "\u001b[1;31mNameError\u001b[0m: name 'line_graph' is not defined"
     ]
    }
   ],
   "source": [
    "\n",
    "\n",
    "LineGIn = (line_graph(GIn))\n",
    "\n",
    "nx.draw(LineGIn, with_labels = True)"
   ]
  },
  {
   "cell_type": "code",
   "execution_count": null,
   "metadata": {},
   "outputs": [],
   "source": [
    "LineGIn = (inverse_line_graph(LineG))\n",
    "nx.draw(LineGIn, with_labels = True)"
   ]
  }
 ],
 "metadata": {
  "kernelspec": {
   "display_name": "Python 3",
   "language": "python",
   "name": "python3"
  },
  "language_info": {
   "codemirror_mode": {
    "name": "ipython",
    "version": 3
   },
   "file_extension": ".py",
   "mimetype": "text/x-python",
   "name": "python",
   "nbconvert_exporter": "python",
   "pygments_lexer": "ipython3",
   "version": "3.7.7"
  }
 },
 "nbformat": 4,
 "nbformat_minor": 4
}
