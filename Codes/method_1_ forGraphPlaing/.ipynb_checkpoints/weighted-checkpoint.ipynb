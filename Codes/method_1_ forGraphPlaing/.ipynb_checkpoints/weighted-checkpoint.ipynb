{
 "cells": [
  {
   "cell_type": "code",
   "execution_count": 1,
   "metadata": {},
   "outputs": [],
   "source": [
    "# Author: Aric Hagberg (hagberg@lanl.gov)\n",
    "import matplotlib.pyplot as plt\n",
    "import networkx as nx\n",
    "from math import log\n",
    "import random"
   ]
  },
  {
   "cell_type": "code",
   "execution_count": 43,
   "metadata": {},
   "outputs": [
    {
     "ename": "FileNotFoundError",
     "evalue": "[Errno 2] No such file or directory: 'dataset/lesmis.gml'",
     "output_type": "error",
     "traceback": [
      "\u001b[1;31m---------------------------------------------------------------------------\u001b[0m",
      "\u001b[1;31mFileNotFoundError\u001b[0m                         Traceback (most recent call last)",
      "\u001b[1;32m<ipython-input-43-d7c1c214f53a>\u001b[0m in \u001b[0;36m<module>\u001b[1;34m\u001b[0m\n\u001b[0;32m      1\u001b[0m \u001b[0mG\u001b[0m \u001b[1;33m=\u001b[0m \u001b[0mnx\u001b[0m\u001b[1;33m.\u001b[0m\u001b[0mGraph\u001b[0m\u001b[1;33m(\u001b[0m\u001b[1;33m)\u001b[0m\u001b[1;33m\u001b[0m\u001b[1;33m\u001b[0m\u001b[0m\n\u001b[1;32m----> 2\u001b[1;33m \u001b[0medges\u001b[0m \u001b[1;33m=\u001b[0m \u001b[0mnx\u001b[0m\u001b[1;33m.\u001b[0m\u001b[0mread_gml\u001b[0m\u001b[1;33m(\u001b[0m\u001b[1;34m'dataset/lesmis.gml'\u001b[0m\u001b[1;33m)\u001b[0m\u001b[1;33m\u001b[0m\u001b[1;33m\u001b[0m\u001b[0m\n\u001b[0m\u001b[0;32m      3\u001b[0m \u001b[0mG\u001b[0m\u001b[1;33m.\u001b[0m\u001b[0madd_edges_from\u001b[0m\u001b[1;33m(\u001b[0m\u001b[0medges\u001b[0m\u001b[1;33m.\u001b[0m\u001b[0medges\u001b[0m\u001b[1;33m(\u001b[0m\u001b[0mdata\u001b[0m\u001b[1;33m=\u001b[0m\u001b[1;32mTrue\u001b[0m\u001b[1;33m)\u001b[0m\u001b[1;33m)\u001b[0m\u001b[1;33m\u001b[0m\u001b[1;33m\u001b[0m\u001b[0m\n",
      "\u001b[1;32m<decorator-gen-778>\u001b[0m in \u001b[0;36mread_gml\u001b[1;34m(path, label, destringizer)\u001b[0m\n",
      "\u001b[1;32m~\\Anaconda31\\envs\\py37\\lib\\site-packages\\networkx\\utils\\decorators.py\u001b[0m in \u001b[0;36m_open_file\u001b[1;34m(func_to_be_decorated, *args, **kwargs)\u001b[0m\n\u001b[0;32m    212\u001b[0m         \u001b[1;32mif\u001b[0m \u001b[0mis_string_like\u001b[0m\u001b[1;33m(\u001b[0m\u001b[0mpath\u001b[0m\u001b[1;33m)\u001b[0m\u001b[1;33m:\u001b[0m\u001b[1;33m\u001b[0m\u001b[1;33m\u001b[0m\u001b[0m\n\u001b[0;32m    213\u001b[0m             \u001b[0mext\u001b[0m \u001b[1;33m=\u001b[0m \u001b[0msplitext\u001b[0m\u001b[1;33m(\u001b[0m\u001b[0mpath\u001b[0m\u001b[1;33m)\u001b[0m\u001b[1;33m[\u001b[0m\u001b[1;36m1\u001b[0m\u001b[1;33m]\u001b[0m\u001b[1;33m\u001b[0m\u001b[1;33m\u001b[0m\u001b[0m\n\u001b[1;32m--> 214\u001b[1;33m             \u001b[0mfobj\u001b[0m \u001b[1;33m=\u001b[0m \u001b[0m_dispatch_dict\u001b[0m\u001b[1;33m[\u001b[0m\u001b[0mext\u001b[0m\u001b[1;33m]\u001b[0m\u001b[1;33m(\u001b[0m\u001b[0mpath\u001b[0m\u001b[1;33m,\u001b[0m \u001b[0mmode\u001b[0m\u001b[1;33m=\u001b[0m\u001b[0mmode\u001b[0m\u001b[1;33m)\u001b[0m\u001b[1;33m\u001b[0m\u001b[1;33m\u001b[0m\u001b[0m\n\u001b[0m\u001b[0;32m    215\u001b[0m             \u001b[0mclose_fobj\u001b[0m \u001b[1;33m=\u001b[0m \u001b[1;32mTrue\u001b[0m\u001b[1;33m\u001b[0m\u001b[1;33m\u001b[0m\u001b[0m\n\u001b[0;32m    216\u001b[0m         \u001b[1;32melif\u001b[0m \u001b[0mhasattr\u001b[0m\u001b[1;33m(\u001b[0m\u001b[0mpath\u001b[0m\u001b[1;33m,\u001b[0m \u001b[1;34m'read'\u001b[0m\u001b[1;33m)\u001b[0m\u001b[1;33m:\u001b[0m\u001b[1;33m\u001b[0m\u001b[1;33m\u001b[0m\u001b[0m\n",
      "\u001b[1;31mFileNotFoundError\u001b[0m: [Errno 2] No such file or directory: 'dataset/lesmis.gml'"
     ]
    }
   ],
   "source": [
    "G = nx.Graph()\n",
    "edges = nx.read_gml('dataset/lesmis.gml')\n",
    "G.add_edges_from(edges.edges(data=True))"
   ]
  },
  {
   "cell_type": "code",
   "execution_count": 3,
   "metadata": {},
   "outputs": [
    {
     "data": {
      "image/png": "[encoded data removed]",
      "text/plain": [
       "<Figure size 432x288 with 1 Axes>"
      ]
     },
     "metadata": {},
     "output_type": "display_data"
    }
   ],
   "source": [
    "arrayGraph=nx.to_numpy_matrix(G,sorted(G.nodes()))\n",
    "arrayGraph\n",
    "G = nx.from_numpy_matrix(arrayGraph)\n",
    "G.edges(data=True)\n",
    "pos = nx.spring_layout(G)  # positions for all nodes\n",
    "\n",
    "# nodes\n",
    "nx.draw_networkx_nodes(G, pos, node_size=700)\n",
    "labels = nx.get_edge_attributes(G,'weight')\n",
    "\n",
    "# edges\n",
    "nx.draw_networkx_edges(G, pos,\n",
    "                       width=6, alpha=0.5, edge_color='b',)\n",
    "\n",
    "# labels\n",
    "nx.draw_networkx_edge_labels(G,pos,edge_labels=labels)\n",
    "# labels\n",
    "nx.draw_networkx_labels(G, pos, font_size=20, font_family='sans-serif')\n",
    "plt.axis('off')\n",
    "plt.show()"
   ]
  },
  {
   "cell_type": "code",
   "execution_count": 4,
   "metadata": {},
   "outputs": [],
   "source": [
    "def main_max_wieghted(G_weight):\n",
    "    \n",
    "    min=False\n",
    "    max=0\n",
    "    for u, v, data in G_weight:\n",
    "        if min==False:\n",
    "            min=data['weight']\n",
    "        if data['weight']<min:\n",
    "            min=data['weight']\n",
    "        if data['weight']>max:\n",
    "            max=data['weight']\n",
    "    return min, max"
   ]
  },
  {
   "cell_type": "code",
   "execution_count": 5,
   "metadata": {},
   "outputs": [],
   "source": [
    "def reverse_weight_edges(G_weight):\n",
    "    min, max = main_max_wieghted(G_weight)\n",
    "    G=[]\n",
    "    for u, v, data in G_weight:\n",
    "        G.append((u,v,{'weight': round((max+min)-data['weight'], 2)}))\n",
    "    print(\"sum Min and Max weight:\",max+min)\n",
    "    return G"
   ]
  },
  {
   "cell_type": "code",
   "execution_count": 6,
   "metadata": {},
   "outputs": [],
   "source": [
    "def common_neighbors(G, u, v, type=None):\n",
    "    if u not in G:\n",
    "        raise nx.NetworkXError('u is not in the graph.')\n",
    "    if v not in G:\n",
    "        raise nx.NetworkXError('v is not in the graph.')\n",
    "    CN=[]\n",
    "    CN_edges=[]\n",
    "    for w in G[u]:\n",
    "        if w in G[v] and w not in (u,v):\n",
    "            CN.append(w)\n",
    "            CN_edges.append((w, u))\n",
    "            CN_edges.append((w, v))\n",
    "\n",
    "    aa = (w for w in G[u] if w in G[v] and w not in (u, v))\n",
    "    if type==\"AA\":\n",
    "        return CN, CN_edges\n",
    "    else:\n",
    "        return CN_edges\n",
    "#     return len(CN)"
   ]
  },
  {
   "cell_type": "code",
   "execution_count": 7,
   "metadata": {},
   "outputs": [],
   "source": [
    "def weight_common_neighbors(G_weight, CN_edges):\n",
    "        WCN=0\n",
    "#     while index<=(len(CN_edges)-1):\n",
    "        for u, v, data in G_weight:\n",
    "            if (u, v) in CN_edges or (v, u) in CN_edges:\n",
    "                WCN+=data['weight']\n",
    "#                 print(u,v, \": \",data['weight'])\n",
    "        return WCN"
   ]
  },
  {
   "cell_type": "code",
   "execution_count": 8,
   "metadata": {},
   "outputs": [],
   "source": [
    "def weight_adamic_adar_index(G_weight,CN_edges, Z):\n",
    "        Sz=[]\n",
    "        sumWeightNeigZ=0\n",
    "        CNxy=0.0\n",
    "        wsz=0.0\n",
    "        result=0.0\n",
    "        logg=0.0\n",
    "        for z in Z:\n",
    "            for neighor in G[z]:\n",
    "                sumWeightNeigZ += (G[z][neighor]['weight'])\n",
    "            CNxy=float(weight_common_neighbors(G_weight,CN_edges))\n",
    "\n",
    "            logg=float(log((1+sumWeightNeigZ),10))\n",
    "            if(logg!=0):\n",
    "    #             print(\"aa\",(wsz), (CNxy),logg)        \n",
    "                result=CNxy/logg\n",
    "        return (result)"
   ]
  },
  {
   "cell_type": "code",
   "execution_count": 9,
   "metadata": {},
   "outputs": [],
   "source": [
    "def adamic_adar_index(G, G_weight, ebunch=None):\n",
    "    AA_value=0\n",
    "    AA=[]\n",
    "    if ebunch is None:\n",
    "        ebunch = nx.edges(G)  \n",
    "#         ebunch = nx.non_edges(G)  \n",
    "    for u, v in ebunch:\n",
    "        AA_value=0\n",
    "        CN, CN_edges=common_neighbors(G, u, v,\"AA\")\n",
    "        \n",
    "        for w in CN:\n",
    "            AA_value+=(1/log(G.degree(w)))\n",
    "           \n",
    "        print(\"node(\", u,\",\",v,\")\",\"adamic_adar_index:\",AA_value ,\"weight: \", weight_adamic_adar_index(G_weight, CN_edges, CN))\n",
    "        AA.append((u,v,AA_value))\n",
    "    return []"
   ]
  },
  {
   "cell_type": "code",
   "execution_count": 10,
   "metadata": {},
   "outputs": [
    {
     "data": {
      "text/plain": [
       "[0, 1, 2, 3, 4, 5, 6]"
      ]
     },
     "execution_count": 10,
     "metadata": {},
     "output_type": "execute_result"
    }
   ],
   "source": [
    "G_weight_main=list(G.edges(data=True))\n",
    "CN, CN_edges=common_neighbors(G, 1, 2,\"AA\")\n",
    "CN\n",
    "list(G)"
   ]
  },
  {
   "cell_type": "code",
   "execution_count": 11,
   "metadata": {},
   "outputs": [
    {
     "name": "stdout",
     "output_type": "stream",
     "text": [
      "sum Min and Max weight: 6.3\n"
     ]
    },
    {
     "data": {
      "text/plain": [
       "[(0, 1, {'weight': 6.0}),\n",
       " (1, 2, {'weight': 4.3}),\n",
       " (1, 3, {'weight': 3.3}),\n",
       " (1, 5, {'weight': 5.6}),\n",
       " (2, 3, {'weight': 4.8}),\n",
       " (3, 4, {'weight': 4.3}),\n",
       " (3, 5, {'weight': 0.3}),\n",
       " (4, 6, {'weight': 6.0}),\n",
       " (5, 6, {'weight': 5.3})]"
      ]
     },
     "execution_count": 11,
     "metadata": {},
     "output_type": "execute_result"
    }
   ],
   "source": [
    "G_weight_reverse= reverse_weight_edges(G_weight_main)\n",
    "G_weight_reverse\n"
   ]
  },
  {
   "cell_type": "code",
   "execution_count": 12,
   "metadata": {
    "scrolled": false
   },
   "outputs": [
    {
     "name": "stdout",
     "output_type": "stream",
     "text": [
      "node( 0 , 1 ) adamic_adar_index: 0 weight:  0.0\n",
      "node( 1 , 2 ) adamic_adar_index: 0.7213475204444817 weight:  3.981124978679147\n",
      "node( 1 , 3 ) adamic_adar_index: 2.352934267515801 weight:  9.389154230476917\n",
      "node( 1 , 5 ) adamic_adar_index: 0.7213475204444817 weight:  7.962249957358294\n",
      "node( 2 , 3 ) adamic_adar_index: 0.7213475204444817 weight:  5.916473312274692\n",
      "node( 3 , 4 ) adamic_adar_index: 0 weight:  0.0\n",
      "node( 3 , 5 ) adamic_adar_index: 0.7213475204444817 weight:  4.378190251083272\n",
      "node( 4 , 6 ) adamic_adar_index: 0 weight:  0.0\n",
      "node( 5 , 6 ) adamic_adar_index: 0 weight:  0.0\n"
     ]
    },
    {
     "data": {
      "text/plain": [
       "[]"
      ]
     },
     "execution_count": 12,
     "metadata": {},
     "output_type": "execute_result"
    }
   ],
   "source": [
    "list(adamic_adar_index(G, G_weight_main))"
   ]
  },
  {
   "cell_type": "code",
   "execution_count": 13,
   "metadata": {},
   "outputs": [
    {
     "name": "stdout",
     "output_type": "stream",
     "text": [
      "node( 0 , 1 ) adamic_adar_index: 0 weight:  0.0\n",
      "node( 1 , 2 ) adamic_adar_index: 0.7213475204444817 weight:  3.981124978679147\n",
      "node( 1 , 3 ) adamic_adar_index: 2.352934267515801 weight:  9.389154230476917\n",
      "node( 1 , 5 ) adamic_adar_index: 0.7213475204444817 weight:  7.962249957358294\n",
      "node( 2 , 3 ) adamic_adar_index: 0.7213475204444817 weight:  5.916473312274692\n",
      "node( 3 , 4 ) adamic_adar_index: 0 weight:  0.0\n",
      "node( 3 , 5 ) adamic_adar_index: 0.7213475204444817 weight:  4.378190251083272\n",
      "node( 4 , 6 ) adamic_adar_index: 0 weight:  0.0\n",
      "node( 5 , 6 ) adamic_adar_index: 0 weight:  0.0\n"
     ]
    },
    {
     "data": {
      "text/plain": [
       "[]"
      ]
     },
     "execution_count": 13,
     "metadata": {},
     "output_type": "execute_result"
    }
   ],
   "source": [
    "list(adamic_adar_index(G, G_weight_main))"
   ]
  },
  {
   "cell_type": "code",
   "execution_count": 14,
   "metadata": {},
   "outputs": [],
   "source": [
    "\n",
    "def find_edge_with_lessDegree_avg(nonedges):\n",
    "    avg_degrees = sum(d for n, d in G.degree()) / float(len(G.nodes()))\n",
    "    list_degree = sorted(G.degree() , reverse=True, key=lambda x: x[1])\n",
    "    print(\"@@@ avrage_degrees: \", avg_degrees)\n",
    "    list_degree_less_avg=[]\n",
    "    for node, degree in list_degree:\n",
    "        nodeA = random.randint(0,(len(nonedges)-1))\n",
    "        if degree<(avg_degrees):\n",
    "            list_degree_less_avg.append((node, degree))\n",
    "\n",
    "\n",
    "    list_edges_with_lessDegreeAvg = []\n",
    "    for node in nonedges:\n",
    "        a=-1\n",
    "        b=-1\n",
    "        for node_degree in list_degree_less_avg:\n",
    "            if (node[0] == node_degree[0]) and a==-1 :\n",
    "                a = node[0]             \n",
    "            if (node[1] == node_degree[0]) and b==-1  :\n",
    "                b = node[1]\n",
    "        if a!=-1 and b!=-1:\n",
    "            list_edges_with_lessDegreeAvg.append((a,b))\n",
    "    #         print(a, b)\n",
    "    return  list_edges_with_lessDegreeAvg"
   ]
  },
  {
   "cell_type": "code",
   "execution_count": 15,
   "metadata": {},
   "outputs": [],
   "source": [
    "def avg_wieghted_edge(G):\n",
    "    list_edge = list(G.edges(data=True))\n",
    "    sum=0\n",
    "    for edge in list_edge :\n",
    "        sum+=edge[2]['weight']\n",
    "        \n",
    "    avg = sum/len(G.edges())\n",
    "    print(\"avrage weighted: \", avg)\n",
    "    \n",
    "    return avg"
   ]
  },
  {
   "cell_type": "code",
   "execution_count": 39,
   "metadata": {},
   "outputs": [],
   "source": [
    "def addEdgeRanom(G, numEdgeAdded, list_edges_with_lessDegreeAvg, min):\n",
    "    '''\n",
    "    Create a new random edge and delete one of its current edge if del_orig is True.\n",
    "    :param graph: networkx graph\n",
    "    :param del_orig: bool\n",
    "    :return: networkx graph\n",
    "    '''\n",
    "    print(\"===================================================== add rendom egde\")\n",
    "    graph=G.copy()\n",
    "    edges = list(graph.edges)\n",
    "    \n",
    "    listEdgesAdded = []\n",
    "\n",
    "    num_list=0\n",
    "    print(\"list_edges_with_lessDegreeAvg:\",len(list_edges_with_lessDegreeAvg))\n",
    "   \n",
    "    avg_weighted = avg_wieghted_edge(G)\n",
    "    \n",
    "    num_list=len(list_edges_with_lessDegreeAvg)-1\n",
    "    for i in range(0, numEdgeAdded):\n",
    "        \n",
    "        # random edge choice\n",
    "        \n",
    "        print(\"num_list: \", num_list)\n",
    "        nodeA = random.randint(0,num_list)\n",
    "#         print(\"noda\", nodeA, \"num: \", num_list)\n",
    "#         print(list_edges_with_lessDegreeAvg[nodeA])\n",
    "        random_weighted=random.uniform(0,min)\n",
    "        listEdgesAdded.append((list_edges_with_lessDegreeAvg[nodeA][0], list_edges_with_lessDegreeAvg[nodeA][1], random_weighted))\n",
    "\n",
    "        graph.add_edge(list_edges_with_lessDegreeAvg[nodeA][0], list_edges_with_lessDegreeAvg[nodeA][1],weight=random_weighted)\n",
    "        del list_edges_with_lessDegreeAvg[nodeA]\n",
    "        num_list-=1\n",
    "        \n",
    "    print(numEdgeAdded, \"edge added with Random to graph!!\")\n",
    "    return graph, listEdgesAdded"
   ]
  },
  {
   "cell_type": "code",
   "execution_count": 40,
   "metadata": {},
   "outputs": [
    {
     "name": "stdout",
     "output_type": "stream",
     "text": [
      "@@@ avrage_degrees:  2.5714285714285716\n",
      "0.3 6.0 5\n",
      "===================================================== add rendom egde\n",
      "list_edges_with_lessDegreeAvg: 5\n",
      "avrage weighted:  1.8666666666666667\n",
      "num_list:  4\n",
      "num_list:  3\n",
      "num_list:  2\n",
      "num_list:  1\n",
      "4 edge added with Random to graph!!\n"
     ]
    },
    {
     "data": {
      "text/plain": [
       "[(2, 6, 0.05894678451473029),\n",
       " (0, 6, 0.13724495960252633),\n",
       " (0, 2, 0.044315657979826735),\n",
       " (2, 4, 0.08083875573663804)]"
      ]
     },
     "execution_count": 40,
     "metadata": {},
     "output_type": "execute_result"
    }
   ],
   "source": [
    "min, max = main_max_wieghted(G_weight_main)\n",
    "\n",
    "nonedges = list(nx.non_edges(G))\n",
    "list_edges_with_lessDegreeAvg = find_edge_with_lessDegree_avg(nonedges)\n",
    "print(min, max,len(list_edges_with_lessDegreeAvg) )\n",
    "numEdgeAdded = 4\n",
    "\n",
    "G1, aa= addEdgeRanom(G, numEdgeAdded, list_edges_with_lessDegreeAvg,min)\n",
    "aa"
   ]
  },
  {
   "cell_type": "code",
   "execution_count": 41,
   "metadata": {},
   "outputs": [
    {
     "name": "stdout",
     "output_type": "stream",
     "text": [
      "sum Min and Max weight: 6.044315657979827\n"
     ]
    },
    {
     "data": {
      "text/plain": [
       "[(0, 2, 6.0),\n",
       " (2, 6, 5.99),\n",
       " (2, 4, 5.96),\n",
       " (0, 6, 5.91),\n",
       " (0, 1, 5.74),\n",
       " (4, 6, 5.74),\n",
       " (1, 5, 5.34),\n",
       " (5, 6, 5.04),\n",
       " (2, 3, 4.54),\n",
       " (1, 2, 4.04),\n",
       " (3, 4, 4.04),\n",
       " (1, 3, 3.04),\n",
       " (3, 5, 0.04)]"
      ]
     },
     "execution_count": 41,
     "metadata": {},
     "output_type": "execute_result"
    }
   ],
   "source": [
    "G_weight_main=list(G1.edges(data=True))\n",
    "G_weight_reverse= reverse_weight_edges(G_weight_main)\n",
    "AA=[]\n",
    "for edge in G_weight_reverse:\n",
    "        AA.append((edge[0], edge[1], edge[2]['weight']))\n",
    "sorted(AA, reverse=True, key=lambda x: x[2])"
   ]
  },
  {
   "cell_type": "code",
   "execution_count": 42,
   "metadata": {},
   "outputs": [
    {
     "name": "stdout",
     "output_type": "stream",
     "text": [
      "node( 0 , 1 ) adamic_adar_index: 0.6213349345596119 weight:  15.37018931552957\n",
      "node( 0 , 6 ) adamic_adar_index: 0.6213349345596119 weight:  18.35543524832665\n",
      "node( 0 , 2 ) adamic_adar_index: 1.4426950408889634 weight:  23.588855158054237\n",
      "node( 1 , 2 ) adamic_adar_index: 1.631586747071319 weight:  16.949166126905652\n",
      "node( 1 , 3 ) adamic_adar_index: 1.531574161186449 weight:  12.850254221319387\n",
      "node( 1 , 5 ) adamic_adar_index: 0.7213475204444817 weight:  2.7248588742959496\n",
      "node( 2 , 3 ) adamic_adar_index: 1.631586747071319 weight:  17.635829340622415\n",
      "node( 2 , 6 ) adamic_adar_index: 1.8204784532536746 weight:  42.440938100108504\n",
      "node( 2 , 4 ) adamic_adar_index: 1.4426950408889634 weight:  17.355092226652467\n",
      "node( 3 , 4 ) adamic_adar_index: 0.6213349345596119 weight:  16.074401176599654\n",
      "node( 3 , 5 ) adamic_adar_index: 0.7213475204444817 weight:  9.916009271372383\n",
      "node( 4 , 6 ) adamic_adar_index: 0.6213349345596119 weight:  18.294199434320557\n",
      "node( 5 , 6 ) adamic_adar_index: 0 weight:  0.0\n"
     ]
    },
    {
     "data": {
      "text/plain": [
       "[]"
      ]
     },
     "execution_count": 42,
     "metadata": {},
     "output_type": "execute_result"
    }
   ],
   "source": [
    "list(adamic_adar_index(G1, G_weight_reverse))"
   ]
  },
  {
   "cell_type": "code",
   "execution_count": 19,
   "metadata": {},
   "outputs": [
    {
     "data": {
      "text/plain": [
       "[(0, 1, {'weight': 0.3}),\n",
       " (0, 4, {'weight': 1.4929871829760148}),\n",
       " (0, 2, {'weight': 1.146797198903}),\n",
       " (1, 2, {'weight': 2.0}),\n",
       " (1, 3, {'weight': 3.0}),\n",
       " (1, 5, {'weight': 0.7}),\n",
       " (2, 3, {'weight': 1.5}),\n",
       " (2, 4, {'weight': 1.4547061067385094}),\n",
       " (2, 6, {'weight': 1.7139757547790455}),\n",
       " (3, 4, {'weight': 2.0}),\n",
       " (3, 5, {'weight': 6.0}),\n",
       " (4, 6, {'weight': 0.3}),\n",
       " (5, 6, {'weight': 1.0})]"
      ]
     },
     "execution_count": 19,
     "metadata": {},
     "output_type": "execute_result"
    }
   ],
   "source": [
    "list(G1.edges(data=True))"
   ]
  },
  {
   "cell_type": "code",
   "execution_count": 30,
   "metadata": {},
   "outputs": [
    {
     "data": {
      "text/plain": [
       "(-0.49527639556969705,\n",
       " 0.3802839418135714,\n",
       " -0.8521524749571809,\n",
       " 1.088197736902723)"
      ]
     },
     "execution_count": 30,
     "metadata": {},
     "output_type": "execute_result"
    },
    {
     "data": {
      "image/png": "[encoded data removed]",
      "text/plain": [
       "<Figure size 432x288 with 1 Axes>"
      ]
     },
     "metadata": {},
     "output_type": "display_data"
    }
   ],
   "source": [
    "nx.draw(G, font_size=20, font_family='sans-serif')\n",
    "plt.axis('off')"
   ]
  },
  {
   "cell_type": "code",
   "execution_count": 46,
   "metadata": {},
   "outputs": [
    {
     "data": {
      "text/plain": [
       "[(0, 1, {'weight': 0.3}),\n",
       " (1, 2, {'weight': 2.0}),\n",
       " (1, 3, {'weight': 3.0}),\n",
       " (1, 5, {'weight': 0.7}),\n",
       " (2, 3, {'weight': 1.5}),\n",
       " (3, 4, {'weight': 2.0}),\n",
       " (3, 5, {'weight': 6.0}),\n",
       " (4, 6, {'weight': 0.3}),\n",
       " (5, 6, {'weight': 1.0})]"
      ]
     },
     "execution_count": 46,
     "metadata": {},
     "output_type": "execute_result"
    }
   ],
   "source": [
    "list(G.edges(data=True))"
   ]
  },
  {
   "cell_type": "code",
   "execution_count": 60,
   "metadata": {},
   "outputs": [],
   "source": []
  },
  {
   "cell_type": "code",
   "execution_count": 59,
   "metadata": {},
   "outputs": [
    {
     "data": {
      "text/plain": [
       "0.5775281244294953"
      ]
     },
     "execution_count": 59,
     "metadata": {},
     "output_type": "execute_result"
    }
   ],
   "source": [
    "random.uniform(0.0,sum/len(G.edges()))"
   ]
  },
  {
   "cell_type": "code",
   "execution_count": null,
   "metadata": {},
   "outputs": [],
   "source": []
  },
  {
   "cell_type": "code",
   "execution_count": null,
   "metadata": {},
   "outputs": [],
   "source": []
  },
  {
   "cell_type": "code",
   "execution_count": null,
   "metadata": {},
   "outputs": [],
   "source": []
  },
  {
   "cell_type": "code",
   "execution_count": 16,
   "metadata": {},
   "outputs": [
    {
     "name": "stdout",
     "output_type": "stream",
     "text": [
      "node( 0 , 1 ) number_common_neighbors: 0 weight:  0\n",
      "node( 1 , 2 ) number_common_neighbors: 1 weight:  4.5\n",
      "node( 1 , 3 ) number_common_neighbors: 2 weight:  10.2\n",
      "node( 1 , 5 ) number_common_neighbors: 1 weight:  9.0\n",
      "node( 2 , 3 ) number_common_neighbors: 1 weight:  5.0\n",
      "node( 3 , 4 ) number_common_neighbors: 0 weight:  0\n",
      "node( 3 , 5 ) number_common_neighbors: 1 weight:  3.7\n",
      "node( 4 , 6 ) number_common_neighbors: 0 weight:  0\n",
      "node( 5 , 6 ) number_common_neighbors: 0 weight:  0\n"
     ]
    }
   ],
   "source": [
    "\n",
    "Matrix=nx.to_numpy_matrix(G,sorted(G.nodes()))\n",
    "maxIndex= len(G.nodes())\n",
    "TopRank=-1\n",
    "TempRank=0\n",
    "i=0\n",
    "j=0\n",
    "for i in list(range((maxIndex-1))):\n",
    "    for j in list(range(i,(maxIndex))):\n",
    "#         print(i,j)\n",
    "        if Matrix[i,j] !=0:\n",
    "            TempRank = len(list(nx.common_neighbors(G, i, j)))\n",
    "#             print(i,j, \": \", TempRank)\n",
    "            edges= common_neighbors(G, i, j)\n",
    "            print(\"node(\", i,\",\",j,\")\",\"number_common_neighbors:\",TempRank,\"weight: \", weight_common_neighbors(G_weight_main, edges))\n",
    "            if TempRank> TopRank:\n",
    "#                 print(\"TopRank: \",i, j,\": \", TempRank)\n",
    "                TopRank=TempRank\n"
   ]
  },
  {
   "cell_type": "code",
   "execution_count": null,
   "metadata": {},
   "outputs": [],
   "source": [
    "sum Min and Max weight: 6.3\n",
    "node( 0 , 1 ) number_common_neighbors: 0 weight:  0\n",
    "node( 1 , 2 ) number_common_neighbors: 1 weight:  4.5\n",
    "node( 1 , 3 ) number_common_neighbors: 2 weight:  10.2\n",
    "node( 1 , 5 ) number_common_neighbors: 1 weight:  9.0\n",
    "node( 2 , 3 ) number_common_neighbors: 1 weight:  5.0\n",
    "node( 3 , 4 ) number_common_neighbors: 0 weight:  0\n",
    "node( 3 , 5 ) number_common_neighbors: 1 weight:  3.7\n",
    "node( 4 , 6 ) number_common_neighbors: 0 weight:  0\n",
    "node( 5 , 6 ) number_common_neighbors: 0 weight:  0"
   ]
  },
  {
   "cell_type": "code",
   "execution_count": null,
   "metadata": {},
   "outputs": [],
   "source": []
  },
  {
   "cell_type": "code",
   "execution_count": null,
   "metadata": {},
   "outputs": [],
   "source": []
  },
  {
   "cell_type": "code",
   "execution_count": 112,
   "metadata": {},
   "outputs": [
    {
     "data": {
      "text/plain": [
       "1.1303337684950059"
      ]
     },
     "execution_count": 112,
     "metadata": {},
     "output_type": "execute_result"
    }
   ],
   "source": [
    "log(13.5,10)"
   ]
  },
  {
   "cell_type": "code",
   "execution_count": null,
   "metadata": {},
   "outputs": [],
   "source": []
  },
  {
   "cell_type": "code",
   "execution_count": null,
   "metadata": {},
   "outputs": [],
   "source": []
  },
  {
   "cell_type": "code",
   "execution_count": null,
   "metadata": {},
   "outputs": [],
   "source": []
  },
  {
   "cell_type": "code",
   "execution_count": null,
   "metadata": {},
   "outputs": [],
   "source": []
  },
  {
   "cell_type": "code",
   "execution_count": null,
   "metadata": {},
   "outputs": [],
   "source": []
  },
  {
   "cell_type": "code",
   "execution_count": 178,
   "metadata": {},
   "outputs": [
    {
     "ename": "SyntaxError",
     "evalue": "invalid syntax (<ipython-input-178-8ff1d1b6dafb>, line 1)",
     "output_type": "error",
     "traceback": [
      "\u001b[1;36m  File \u001b[1;32m\"<ipython-input-178-8ff1d1b6dafb>\"\u001b[1;36m, line \u001b[1;32m1\u001b[0m\n\u001b[1;33m    from '../function' import f_graph\u001b[0m\n\u001b[1;37m                     ^\u001b[0m\n\u001b[1;31mSyntaxError\u001b[0m\u001b[1;31m:\u001b[0m invalid syntax\n"
     ]
    }
   ],
   "source": [
    " from 'function' import f_graph       "
   ]
  },
  {
   "cell_type": "code",
   "execution_count": 206,
   "metadata": {},
   "outputs": [],
   "source": [
    "# dataset delfins\n",
    "G =nx.Graph()\n",
    "edges = nx.read_gml('../dataset/lesmis/lesmis.gml')\n",
    "G.add_edges_from(edges.edges(data=True))\n"
   ]
  },
  {
   "cell_type": "code",
   "execution_count": 207,
   "metadata": {},
   "outputs": [
    {
     "data": {
      "image/png": "[encoded data removed]",
      "text/plain": [
       "<Figure size 432x288 with 1 Axes>"
      ]
     },
     "metadata": {},
     "output_type": "display_data"
    }
   ],
   "source": [
    "pos = nx.spring_layout(G1)  # positions for all nodes\n",
    "\n",
    "# nodes\n",
    "nx.draw_networkx_nodes(G1, pos, node_size=200)\n",
    "labels = nx.get_edge_attributes(G1,'weight')\n",
    "\n",
    "# edges\n",
    "nx.draw_networkx_edges(G1, pos,\n",
    "                       width=6, alpha=0.5, edge_color='b',)\n",
    "\n",
    "# labels\n",
    "nx.draw_networkx_edge_labels(G1,pos,edge_labels=labels)\n",
    "# labels\n",
    "nx.draw_networkx_labels(G1, pos, font_size=20, font_family='sans-serif')\n",
    "plt.axis('off')\n",
    "plt.show()"
   ]
  },
  {
   "cell_type": "code",
   "execution_count": 205,
   "metadata": {},
   "outputs": [
    {
     "data": {
      "text/plain": [
       "EdgeDataView([('Myriel', 'Napoleon', {'value': 1}), ('Myriel', 'MlleBaptistine', {'value': 8}), ('Myriel', 'MmeMagloire', {'value': 10}), ('Myriel', 'CountessDeLo', {'value': 1}), ('Myriel', 'Geborand', {'value': 1}), ('Myriel', 'Champtercier', {'value': 1}), ('Myriel', 'Cravatte', {'value': 1}), ('Myriel', 'Count', {'value': 2}), ('Myriel', 'OldMan', {'value': 1}), ('Myriel', 'Valjean', {'value': 5}), ('MlleBaptistine', 'MmeMagloire', {'value': 6}), ('MlleBaptistine', 'Valjean', {'value': 3}), ('MmeMagloire', 'Valjean', {'value': 3}), ('Valjean', 'Labarre', {'value': 1}), ('Valjean', 'Marguerite', {'value': 1}), ('Valjean', 'MmeDeR', {'value': 1}), ('Valjean', 'Isabeau', {'value': 1}), ('Valjean', 'Gervais', {'value': 1}), ('Valjean', 'Fantine', {'value': 9}), ('Valjean', 'MmeThenardier', {'value': 7}), ('Valjean', 'Thenardier', {'value': 12}), ('Valjean', 'Cosette', {'value': 31}), ('Valjean', 'Javert', {'value': 17}), ('Valjean', 'Fauchelevent', {'value': 8}), ('Valjean', 'Bamatabois', {'value': 2}), ('Valjean', 'Simplice', {'value': 3}), ('Valjean', 'Scaufflaire', {'value': 1}), ('Valjean', 'Woman1', {'value': 2}), ('Valjean', 'Judge', {'value': 3}), ('Valjean', 'Champmathieu', {'value': 3}), ('Valjean', 'Brevet', {'value': 2}), ('Valjean', 'Chenildieu', {'value': 2}), ('Valjean', 'Cochepaille', {'value': 2}), ('Valjean', 'Woman2', {'value': 3}), ('Valjean', 'MotherInnocent', {'value': 1}), ('Valjean', 'Gavroche', {'value': 1}), ('Valjean', 'Gillenormand', {'value': 2}), ('Valjean', 'MlleGillenormand', {'value': 2}), ('Valjean', 'Marius', {'value': 19}), ('Valjean', 'Enjolras', {'value': 4}), ('Valjean', 'Bossuet', {'value': 1}), ('Valjean', 'Gueulemer', {'value': 1}), ('Valjean', 'Babet', {'value': 1}), ('Valjean', 'Claquesous', {'value': 1}), ('Valjean', 'Montparnasse', {'value': 1}), ('Valjean', 'Toussaint', {'value': 1}), ('Marguerite', 'Fantine', {'value': 2}), ('Fantine', 'Tholomyes', {'value': 3}), ('Fantine', 'Listolier', {'value': 3}), ('Fantine', 'Fameuil', {'value': 3}), ('Fantine', 'Blacheville', {'value': 3}), ('Fantine', 'Favourite', {'value': 4}), ('Fantine', 'Dahlia', {'value': 4}), ('Fantine', 'Zephine', {'value': 4}), ('Fantine', 'MmeThenardier', {'value': 2}), ('Fantine', 'Thenardier', {'value': 1}), ('Fantine', 'Javert', {'value': 5}), ('Fantine', 'Bamatabois', {'value': 1}), ('Fantine', 'Perpetue', {'value': 1}), ('Fantine', 'Simplice', {'value': 2}), ('MmeThenardier', 'Thenardier', {'value': 13}), ('MmeThenardier', 'Cosette', {'value': 4}), ('MmeThenardier', 'Javert', {'value': 1}), ('MmeThenardier', 'Eponine', {'value': 2}), ('MmeThenardier', 'Anzelma', {'value': 1}), ('MmeThenardier', 'Magnon', {'value': 1}), ('MmeThenardier', 'Gueulemer', {'value': 1}), ('MmeThenardier', 'Babet', {'value': 1}), ('MmeThenardier', 'Claquesous', {'value': 1}), ('Thenardier', 'Cosette', {'value': 1}), ('Thenardier', 'Javert', {'value': 5}), ('Thenardier', 'Pontmercy', {'value': 1}), ('Thenardier', 'Boulatruelle', {'value': 1}), ('Thenardier', 'Eponine', {'value': 3}), ('Thenardier', 'Anzelma', {'value': 2}), ('Thenardier', 'Gavroche', {'value': 1}), ('Thenardier', 'Marius', {'value': 2}), ('Thenardier', 'Gueulemer', {'value': 5}), ('Thenardier', 'Babet', {'value': 6}), ('Thenardier', 'Claquesous', {'value': 4}), ('Thenardier', 'Montparnasse', {'value': 1}), ('Thenardier', 'Brujon', {'value': 3}), ('Cosette', 'Tholomyes', {'value': 1}), ('Cosette', 'Javert', {'value': 1}), ('Cosette', 'Woman2', {'value': 1}), ('Cosette', 'Gillenormand', {'value': 3}), ('Cosette', 'MlleGillenormand', {'value': 2}), ('Cosette', 'LtGillenormand', {'value': 1}), ('Cosette', 'Marius', {'value': 21}), ('Cosette', 'Toussaint', {'value': 2}), ('Javert', 'Fauchelevent', {'value': 1}), ('Javert', 'Bamatabois', {'value': 1}), ('Javert', 'Simplice', {'value': 1}), ('Javert', 'Woman1', {'value': 1}), ('Javert', 'Woman2', {'value': 1}), ('Javert', 'Gavroche', {'value': 1}), ('Javert', 'Enjolras', {'value': 6}), ('Javert', 'Gueulemer', {'value': 1}), ('Javert', 'Babet', {'value': 2}), ('Javert', 'Claquesous', {'value': 1}), ('Javert', 'Montparnasse', {'value': 1}), ('Javert', 'Toussaint', {'value': 1}), ('Fauchelevent', 'MotherInnocent', {'value': 3}), ('Fauchelevent', 'Gribier', {'value': 2}), ('Bamatabois', 'Judge', {'value': 2}), ('Bamatabois', 'Champmathieu', {'value': 2}), ('Bamatabois', 'Brevet', {'value': 1}), ('Bamatabois', 'Chenildieu', {'value': 1}), ('Bamatabois', 'Cochepaille', {'value': 1}), ('Simplice', 'Perpetue', {'value': 2}), ('Judge', 'Champmathieu', {'value': 3}), ('Judge', 'Brevet', {'value': 2}), ('Judge', 'Chenildieu', {'value': 2}), ('Judge', 'Cochepaille', {'value': 2}), ('Champmathieu', 'Brevet', {'value': 2}), ('Champmathieu', 'Chenildieu', {'value': 2}), ('Champmathieu', 'Cochepaille', {'value': 2}), ('Brevet', 'Chenildieu', {'value': 2}), ('Brevet', 'Cochepaille', {'value': 2}), ('Chenildieu', 'Cochepaille', {'value': 2}), ('Gavroche', 'MmeBurgon', {'value': 2}), ('Gavroche', 'Marius', {'value': 4}), ('Gavroche', 'Mabeuf', {'value': 1}), ('Gavroche', 'Enjolras', {'value': 7}), ('Gavroche', 'Combeferre', {'value': 6}), ('Gavroche', 'Prouvaire', {'value': 1}), ('Gavroche', 'Feuilly', {'value': 2}), ('Gavroche', 'Courfeyrac', {'value': 7}), ('Gavroche', 'Bahorel', {'value': 5}), ('Gavroche', 'Bossuet', {'value': 5}), ('Gavroche', 'Joly', {'value': 3}), ('Gavroche', 'Grantaire', {'value': 1}), ('Gavroche', 'Gueulemer', {'value': 1}), ('Gavroche', 'Babet', {'value': 1}), ('Gavroche', 'Montparnasse', {'value': 1}), ('Gavroche', 'Child1', {'value': 2}), ('Gavroche', 'Child2', {'value': 2}), ('Gavroche', 'Brujon', {'value': 1}), ('Gavroche', 'MmeHucheloup', {'value': 1}), ('Gillenormand', 'Magnon', {'value': 1}), ('Gillenormand', 'MlleGillenormand', {'value': 9}), ('Gillenormand', 'LtGillenormand', {'value': 1}), ('Gillenormand', 'Marius', {'value': 12}), ('Gillenormand', 'BaronessT', {'value': 1}), ('MlleGillenormand', 'MmePontmercy', {'value': 1}), ('MlleGillenormand', 'MlleVaubois', {'value': 1}), ('MlleGillenormand', 'LtGillenormand', {'value': 2}), ('MlleGillenormand', 'Marius', {'value': 6}), ('Marius', 'Tholomyes', {'value': 1}), ('Marius', 'Pontmercy', {'value': 1}), ('Marius', 'Eponine', {'value': 5}), ('Marius', 'LtGillenormand', {'value': 1}), ('Marius', 'BaronessT', {'value': 1}), ('Marius', 'Mabeuf', {'value': 1}), ('Marius', 'Enjolras', {'value': 7}), ('Marius', 'Combeferre', {'value': 5}), ('Marius', 'Feuilly', {'value': 1}), ('Marius', 'Courfeyrac', {'value': 9}), ('Marius', 'Bahorel', {'value': 1}), ('Marius', 'Bossuet', {'value': 5}), ('Marius', 'Joly', {'value': 2}), ('Enjolras', 'Mabeuf', {'value': 1}), ('Enjolras', 'Combeferre', {'value': 15}), ('Enjolras', 'Prouvaire', {'value': 4}), ('Enjolras', 'Feuilly', {'value': 6}), ('Enjolras', 'Courfeyrac', {'value': 17}), ('Enjolras', 'Bahorel', {'value': 4}), ('Enjolras', 'Bossuet', {'value': 10}), ('Enjolras', 'Joly', {'value': 5}), ('Enjolras', 'Grantaire', {'value': 3}), ('Enjolras', 'Claquesous', {'value': 1}), ('Enjolras', 'MmeHucheloup', {'value': 1}), ('Bossuet', 'Mabeuf', {'value': 1}), ('Bossuet', 'Combeferre', {'value': 9}), ('Bossuet', 'Prouvaire', {'value': 2}), ('Bossuet', 'Feuilly', {'value': 6}), ('Bossuet', 'Courfeyrac', {'value': 12}), ('Bossuet', 'Bahorel', {'value': 4}), ('Bossuet', 'Joly', {'value': 7}), ('Bossuet', 'Grantaire', {'value': 3}), ('Bossuet', 'MmeHucheloup', {'value': 1}), ('Gueulemer', 'Eponine', {'value': 1}), ('Gueulemer', 'Babet', {'value': 6}), ('Gueulemer', 'Claquesous', {'value': 4}), ('Gueulemer', 'Montparnasse', {'value': 2}), ('Gueulemer', 'Brujon', {'value': 3}), ('Babet', 'Eponine', {'value': 1}), ('Babet', 'Claquesous', {'value': 4}), ('Babet', 'Montparnasse', {'value': 2}), ('Babet', 'Brujon', {'value': 3}), ('Claquesous', 'Eponine', {'value': 1}), ('Claquesous', 'Montparnasse', {'value': 2}), ('Claquesous', 'Brujon', {'value': 1}), ('Montparnasse', 'Eponine', {'value': 1}), ('Montparnasse', 'Brujon', {'value': 1}), ('Tholomyes', 'Listolier', {'value': 4}), ('Tholomyes', 'Fameuil', {'value': 4}), ('Tholomyes', 'Blacheville', {'value': 4}), ('Tholomyes', 'Favourite', {'value': 3}), ('Tholomyes', 'Dahlia', {'value': 3}), ('Tholomyes', 'Zephine', {'value': 3}), ('Listolier', 'Fameuil', {'value': 4}), ('Listolier', 'Blacheville', {'value': 4}), ('Listolier', 'Favourite', {'value': 3}), ('Listolier', 'Dahlia', {'value': 3}), ('Listolier', 'Zephine', {'value': 3}), ('Fameuil', 'Blacheville', {'value': 4}), ('Fameuil', 'Favourite', {'value': 3}), ('Fameuil', 'Dahlia', {'value': 3}), ('Fameuil', 'Zephine', {'value': 3}), ('Blacheville', 'Favourite', {'value': 4}), ('Blacheville', 'Dahlia', {'value': 3}), ('Blacheville', 'Zephine', {'value': 3}), ('Favourite', 'Dahlia', {'value': 5}), ('Favourite', 'Zephine', {'value': 4}), ('Dahlia', 'Zephine', {'value': 4}), ('Eponine', 'Anzelma', {'value': 2}), ('Eponine', 'Mabeuf', {'value': 1}), ('Eponine', 'Courfeyrac', {'value': 1}), ('Eponine', 'Brujon', {'value': 1}), ('Pontmercy', 'MmePontmercy', {'value': 1}), ('Mabeuf', 'Combeferre', {'value': 2}), ('Mabeuf', 'Feuilly', {'value': 1}), ('Mabeuf', 'Courfeyrac', {'value': 2}), ('Mabeuf', 'Bahorel', {'value': 2}), ('Mabeuf', 'Joly', {'value': 1}), ('Mabeuf', 'MotherPlutarch', {'value': 3}), ('Courfeyrac', 'Combeferre', {'value': 13}), ('Courfeyrac', 'Prouvaire', {'value': 3}), ('Courfeyrac', 'Feuilly', {'value': 6}), ('Courfeyrac', 'Bahorel', {'value': 6}), ('Courfeyrac', 'Joly', {'value': 5}), ('Courfeyrac', 'Grantaire', {'value': 2}), ('Courfeyrac', 'MmeHucheloup', {'value': 1}), ('Jondrette', 'MmeBurgon', {'value': 1}), ('Combeferre', 'Prouvaire', {'value': 2}), ('Combeferre', 'Feuilly', {'value': 5}), ('Combeferre', 'Bahorel', {'value': 5}), ('Combeferre', 'Joly', {'value': 5}), ('Combeferre', 'Grantaire', {'value': 1}), ('Prouvaire', 'Feuilly', {'value': 2}), ('Prouvaire', 'Bahorel', {'value': 2}), ('Prouvaire', 'Joly', {'value': 2}), ('Prouvaire', 'Grantaire', {'value': 1}), ('Feuilly', 'Bahorel', {'value': 3}), ('Feuilly', 'Joly', {'value': 5}), ('Feuilly', 'Grantaire', {'value': 1}), ('Bahorel', 'Joly', {'value': 5}), ('Bahorel', 'Grantaire', {'value': 1}), ('Bahorel', 'MmeHucheloup', {'value': 1}), ('Joly', 'Grantaire', {'value': 2}), ('Joly', 'MmeHucheloup', {'value': 1}), ('Grantaire', 'MmeHucheloup', {'value': 1}), ('Child1', 'Child2', {'value': 3})])"
      ]
     },
     "execution_count": 205,
     "metadata": {},
     "output_type": "execute_result"
    }
   ],
   "source": []
  },
  {
   "cell_type": "code",
   "execution_count": null,
   "metadata": {},
   "outputs": [],
   "source": []
  }
 ],
 "metadata": {
  "kernelspec": {
   "display_name": "Python 3",
   "language": "python",
   "name": "python3"
  },
  "language_info": {
   "codemirror_mode": {
    "name": "ipython",
    "version": 3
   },
   "file_extension": ".py",
   "mimetype": "text/x-python",
   "name": "python",
   "nbconvert_exporter": "python",
   "pygments_lexer": "ipython3",
   "version": "3.7.7"
  }
 },
 "nbformat": 4,
 "nbformat_minor": 2
}
